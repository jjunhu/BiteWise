{
 "cells": [
  {
   "cell_type": "code",
   "execution_count": 1,
   "metadata": {},
   "outputs": [
    {
     "name": "stderr",
     "output_type": "stream",
     "text": [
      "/bin/sh: nvidia-smi: command not found\n"
     ]
    },
    {
     "name": "stdout",
     "output_type": "stream",
     "text": [
      "No CUDA GPU found in your device\n",
      "[2023-12-02 19:39:19] (2.3.4) \u001b[31mPyABSA(2.3.4): If your code crashes on Colab, please use the GPU runtime. Then run \"pip install pyabsa[dev] -U\" and restart the kernel.\n",
      "Or if it does not work, you can use v1.x versions, e.g., pip install pyabsa<2.0 -U\n",
      "\n",
      "\n",
      "\n",
      "\n",
      "WARNING: When you fails to load a checkpoint, e.g., Unexpected key(s),\n",
      "Try to downgrade transformers<=4.29.0.\n",
      "\n",
      "\n",
      "\n",
      "\u001b[0m\n"
     ]
    },
    {
     "name": "stderr",
     "output_type": "stream",
     "text": [
      "/Users/damonliu/anaconda3/lib/python3.11/site-packages/tensorflow/python/framework/dtypes.py:35: DeprecationWarning: ml_dtypes.float8_e4m3b11 is deprecated. Use ml_dtypes.float8_e4m3b11fnuz\n",
      "  from tensorflow.tsl.python.lib.core import pywrap_ml_dtypes\n"
     ]
    },
    {
     "name": "stdout",
     "output_type": "stream",
     "text": [
      "[2023-12-02 19:39:31] (2.3.4) Please specify the task code, e.g. from pyabsa import TaskCodeOption\n"
     ]
    },
    {
     "name": "stderr",
     "output_type": "stream",
     "text": [
      "/Users/damonliu/anaconda3/lib/python3.11/multiprocessing/pool.py:268: ResourceWarning: unclosed running multiprocessing pool <multiprocessing.pool.Pool state=RUN pool_size=1>\n",
      "  _warn(f\"unclosed running multiprocessing pool {self!r}\",\n",
      "ResourceWarning: Enable tracemalloc to get the object allocation traceback\n"
     ]
    },
    {
     "name": "stdout",
     "output_type": "stream",
     "text": [
      "[2023-12-02 19:39:31] (2.3.4) \u001b[32mDownloading checkpoint:english \u001b[0m\n",
      "[2023-12-02 19:39:31] (2.3.4) \u001b[31mNotice: The pretrained model are used for testing, it is recommended to train the model on your own custom datasets\u001b[0m\n",
      "[2023-12-02 19:39:31] (2.3.4) Checkpoint already downloaded, skip\n",
      "[2023-12-02 19:39:31] (2.3.4) Load aspect extractor from checkpoints/ATEPC_ENGLISH_CHECKPOINT/fast_lcf_atepc_English_cdw_apcacc_82.36_apcf1_81.89_atef1_75.43\n",
      "[2023-12-02 19:39:31] (2.3.4) config: checkpoints/ATEPC_ENGLISH_CHECKPOINT/fast_lcf_atepc_English_cdw_apcacc_82.36_apcf1_81.89_atef1_75.43/fast_lcf_atepc.config\n",
      "[2023-12-02 19:39:31] (2.3.4) state_dict: checkpoints/ATEPC_ENGLISH_CHECKPOINT/fast_lcf_atepc_English_cdw_apcacc_82.36_apcf1_81.89_atef1_75.43/fast_lcf_atepc.state_dict\n",
      "[2023-12-02 19:39:31] (2.3.4) model: None\n",
      "[2023-12-02 19:39:31] (2.3.4) tokenizer: checkpoints/ATEPC_ENGLISH_CHECKPOINT/fast_lcf_atepc_English_cdw_apcacc_82.36_apcf1_81.89_atef1_75.43/fast_lcf_atepc.tokenizer\n",
      "[2023-12-02 19:39:31] (2.3.4) Set Model Device: cpu\n",
      "[2023-12-02 19:39:31] (2.3.4) Device Name: Unknown\n"
     ]
    },
    {
     "name": "stderr",
     "output_type": "stream",
     "text": [
      "Special tokens have been added in the vocabulary, make sure the associated word embeddings are fine-tuned or trained.\n",
      "/Users/damonliu/anaconda3/lib/python3.11/site-packages/transformers/convert_slow_tokenizer.py:470: UserWarning: The sentencepiece tokenizer that you are converting to a fast tokenizer uses the byte fallback option which is not implemented in the fast tokenizers. In practice this means that the fast version of the tokenizer can produce unknown tokens whereas the sentencepiece version would have converted these unknown tokens into a sequence of byte tokens matching the original piece of text.\n",
      "  warnings.warn(\n",
      "Special tokens have been added in the vocabulary, make sure the associated word embeddings are fine-tuned or trained.\n",
      "Special tokens have been added in the vocabulary, make sure the associated word embeddings are fine-tuned or trained.\n",
      "Special tokens have been added in the vocabulary, make sure the associated word embeddings are fine-tuned or trained.\n"
     ]
    }
   ],
   "source": [
    "from pyabsa import AspectTermExtraction as ATEPC, available_checkpoints\n",
    "\n",
    "# You can view all available checkpoints by calling available_checkpoints()\n",
    "checkpoint_map = available_checkpoints()\n",
    "\n",
    "#added\n",
    "config = (\n",
    "    ATEPC.ATEPCConfigManager.get_atepc_config_english()\n",
    ")  # this config contains 'pretrained_bert', it is based on pretrained models\n",
    "config.model = ATEPC.ATEPCModelList.FAST_LCF_ATEPC  # improved version of LCF-ATEPC\n",
    "config.max_seq_len=500\n",
    "#end\n",
    "aspect_extractor = ATEPC.AspectExtractor('english',\n",
    "                                         auto_device=True,  # False means load model on CPU\n",
    "                                         cal_perplexity=True,\n",
    "                                         )\n",
    "def analyze_aspect_sentiment_pyasab(text):\n",
    "    result=aspect_extractor.predict([text],\n",
    "                         save_result=False,\n",
    "                         print_result=False,  # print the result\n",
    "                         ignore_error=True,  # ignore the error when the model cannot predict the input\n",
    "                         )\n",
    "    print('Aspects:',result[0]['aspect'])\n",
    "    print('Sentiment:',result[0]['sentiment'])"
   ]
  },
  {
   "cell_type": "code",
   "execution_count": 2,
   "metadata": {},
   "outputs": [
    {
     "name": "stderr",
     "output_type": "stream",
     "text": [
      "/var/folders/p2/snppxsvn45ngypv113tcjp2r0000gn/T/ipykernel_50556/2444242461.py:2: DtypeWarning: Columns (0,9,10,11,12,13,14,15) have mixed types. Specify dtype option on import or set low_memory=False.\n",
      "  yelp_reviews = pd.read_csv(\"yelp reviews.csv\", encoding='latin1')\n"
     ]
    }
   ],
   "source": [
    "import pandas as pd\n",
    "yelp_reviews = pd.read_csv(\"yelp reviews.csv\", encoding='latin1')\n",
    "yelp_reviews['Comment'].map(type).unique()\n",
    "drop_indices = yelp_reviews[yelp_reviews['Comment'].map(type) != str].index.tolist()\n",
    "yelp_reviews = yelp_reviews.drop(drop_indices)\n",
    "yelp_reviews['Length'] = yelp_reviews['Comment'].apply(lambda x: len(x.split()))\n",
    "yelp_reviews = yelp_reviews[['Length', 'Comment']]\n",
    "short_reviews = yelp_reviews[(yelp_reviews['Length'] > 5) & (yelp_reviews['Length'] <= 40)].reset_index()\n",
    "long_reviews = yelp_reviews[(yelp_reviews['Length'] > 40) & (yelp_reviews['Length'] < 150)].reset_index()"
   ]
  },
  {
   "cell_type": "code",
   "execution_count": 3,
   "metadata": {},
   "outputs": [
    {
     "name": "stdout",
     "output_type": "stream",
     "text": [
      "Review: I ordered food through Seamless. The food was horrendous. The chicken tikka masala was the worst: over buttered tasteless red sauce containing cubes of stale chicken. The lamb appetizer was inedible, which was very hard and fibrous. The rice lost all its softness and was dehydrated. Perhaps this was a one time experience. They don't get a second chance from me. Eat at your own risk.\n"
     ]
    },
    {
     "name": "stderr",
     "output_type": "stream",
     "text": [
      "/Users/damonliu/anaconda3/lib/python3.11/site-packages/pyabsa/tasks/AspectTermExtraction/prediction/aspect_extractor.py:566: UserWarning: Creating a tensor from a list of numpy.ndarrays is extremely slow. Please consider converting the list to a single numpy.ndarray with numpy.array() before converting to a tensor. (Triggered internally at /Users/runner/work/pytorch/pytorch/pytorch/torch/csrc/utils/tensor_new.cpp:264.)\n",
      "  lcf_cdm_vec = torch.tensor(\n"
     ]
    },
    {
     "name": "stdout",
     "output_type": "stream",
     "text": [
      "Aspects: ['food', 'chicken tikka masala', 'sauce', 'lamb appetizer', 'rice']\n",
      "Sentiment: ['Negative', 'Negative', 'Negative', 'Negative', 'Negative']\n",
      "\n",
      "Review: A diverse crowd comes here to dine because there is literally no one on earth who can dislike Bono. It is so delicious--I've had almost all of their pizzas which they take the meat out of for me as I am vegetarian. You can watch the chef cook your pizza in the oven since it is outside of the kitchen! My boyfriend has tried almost everything else with meat in it, and he is always extremely satisfied. Waiters and waitresses are very friendly! A lively atmosphere, but not rowdy.\n",
      "Aspects: ['waitresses', 'atmosphere']\n",
      "Sentiment: ['Positive', 'Positive']\n",
      "\n",
      "Review: Simply a great place for dinner. Especially after a show at Lincoln Center. It's right across the street. The staff is great and attentive and the food delicious! Their margarita pizza is crispy thin and giant. All of their pasta is cooked to the perfect tenderness.\n",
      "Aspects: ['staff', 'food', 'margarita pizza', 'pasta']\n",
      "Sentiment: ['Positive', 'Positive', 'Positive', 'Positive']\n",
      "\n",
      "Review: This is the worst Cuban/Mexican restaurant I've encountered. Their menu mainly has Mexican dishes and only one Cuban dish. The decor is colorful and interesting, but I didn't appreciate that they had a big painting of the virgin Mary on the wall holding corns. I didn't appreciate the lack of customer service by the cashier girl and waiter. They did not greet me when I entered and continued with their full blown conversation until I interrupted and asked questions. It was obvious the two workers were two young college kids who had no manners and we're more interested in social media than taking care of their customers. Food was not great and will never come back here again.\n",
      "Aspects: ['menu', 'decor', 'service', 'waiter', 'workers', 'Food']\n",
      "Sentiment: ['Negative', 'Positive', 'Negative', 'Negative', 'Negative', 'Negative']\n",
      "\n",
      "Review: Ok I've been back a few times since and can safely say this is a 4. Have had a couple of their tacos and the flavor is certainly there. Pricing is weird here. I don't think I've been here and not seen someone go, wait, how much is it? Thought it was X but instead it's Y. For example, today some guy went through it and had to pay $1 for sauce, the sauce that COMES with it. Like I said, weird. Anyways, it's now a regular lunch spot for me.\n",
      "Aspects: ['Pricing', 'much']\n",
      "Sentiment: ['Negative', 'Negative']\n",
      "\n",
      "Review: This is a rather upscale place judging from the beautiful and elegant decor and in comparison to the other hundreds of sushi places in its neighborhood. It is towards the pricey side but they have great lunch specials... We split the chicken teriyaki and sushi lunch specials, and it was more than enough to fill us up. The chicken was tender, soft and melted in my mouth and the sushi was made from fresh fish... One knows it's fresh fish when the its soft and odorless and the colors are bright and deep, which it was and therefore, it was absolutely delicious. The waiter was persistently asking us if we were satisfied or whether we'd like more, but I figure he was new and just over eager and trying to be helpful. Great place! Try it out, probably better for lunch since I'm sure it gets packed for dinner.\n",
      "Aspects: ['decor', 'lunch specials', 'chicken', 'sushi', 'colors', 'waiter']\n",
      "Sentiment: ['Positive', 'Positive', 'Positive', 'Positive', 'Positive', 'Negative']\n",
      "\n",
      "Review: Now I do not wonder why this outback has such low rating. We went there today for lunch. We were surprised that the place was empty since it is a saturday at the mall. First the hostess looked like she rather be somewhere- no eye contact and no smiling. Our server was okay. I ordered the sirloin steak and requested medium well- came out as dry as rock and hard (oversalted) . My husband ordered their new steak sandwhich- as small as 2 white castle cheeseburgers. Crappy food as hubby said. The fries were old and soggy and just warm not fresh. So disappointed- we should have gone to red robin next door. The outback in yonkers is so much better Do not waste your money on this outback at the bay plaza mall\n",
      "Aspects: ['place', 'hostess', 'server', 'sandwhich', 'food', 'fries']\n",
      "Sentiment: ['Negative', 'Negative', 'Negative', 'Negative', 'Negative', 'Negative']\n",
      "\n",
      "Review: The pizza is really good here but the only bad thing is the delivery. I waited an hour and 40 minutes for my order. The kids were getting so cranky and I don't like to be those annoying customers that keeps calling and asking how logg for my delivery but an hour and 40 minutes is ridiculous.\n",
      "Aspects: ['pizza', 'delivery']\n",
      "Sentiment: ['Positive', 'Negative']\n",
      "\n",
      "Review: I stopped in here after the Yo La Tengo concert at McCarren Pool and was pleasantly surprised by the prices and flavors. I took advantage of the sangria & wings special ($7.95) and order a small side of mac & cheese ($2.50). A perfect way to end a perfect day in the 'Burg. Super friendly staff too... but I admit I was flirting for more sangria!\n",
      "Aspects: ['prices', 'staff']\n",
      "Sentiment: ['Positive', 'Positive']\n",
      "\n",
      "Review: Best paella ever. Hands down. Downside is you can't order one paella to share- if there are two people that want to share one paella, they charge you for two, so it ends up being like $50 which is kind of overpriced for rice with a few shrimp. Also, service is slightly below average.\n",
      "Aspects: ['paella', 'shrimp', 'service']\n",
      "Sentiment: ['Positive', 'Negative', 'Negative']\n",
      "\n",
      "Review: We ordered a delivery .It took over an hour to arrive and was cold .I called them and they said ,wait for this.It is normal for food to be delivered cold .Luckily our room had a microwave ,but if it had not we would be eating cold food .We ordered out the whole week we were in NYC and never had this experience with any other restaurant .\n",
      "Aspects: ['delivery', 'hour', 'arrive', 'food', 'food']\n",
      "Sentiment: ['Negative', 'Negative', 'Negative', 'Negative', 'Negative']\n",
      "\n",
      "Review: My fiance and I needed our spam fix after spending a week in Hawaii and their spam musubi totally hit the spot. It was as good as the ones we ate on the big island (except next time I'll ask them to wrap the whole thing in nori). We also shared the salmon katsu over rice - the breading was very crispy and the fish was fresh and chicken katsu sandwich - it was equally as delicious. Tokyo Teriyaki is my new favorite eatery in Forest Hills. I wish there was more seating but the food is delicious and very reasonably priced, especially for this neighborhood. I can't wait for my next meal there!\n",
      "Aspects: ['spam musubi', 'It', 'fish', 'chicken katsu sandwich', 'food', 'priced']\n",
      "Sentiment: ['Positive', 'Positive', 'Positive', 'Positive', 'Positive', 'Positive']\n",
      "\n",
      "Review: Two thumbs up We came here last night craving burgers and were not disappointed. I had the Pub Burger w/out the two 8 two sauce and my boyfriend had the 50/50. The food was tasty, burgers cooked perfectly & great fries. My only complaint is that the tables need to be reconfigured, I could have sat in my neighbors lap. Great local spot we'll be back for more!\n",
      "Aspects: ['food', 'burgers', 'fries', 'tables']\n",
      "Sentiment: ['Positive', 'Positive', 'Positive', 'Negative']\n",
      "\n",
      "Review: Finally a great Indian Restaurant in Bayside! The place is much larger than it looks from the outside. The decor and atmosphere is very nice but it's the food that's the star here. The service is excellent and the owner even came by and introduced himself. With as many years of experience as he has, it's no wonder that the food and service are so good. My wife and I ordered the shrimp curry lunch special. We were expecting the usual yellow curry. It was a beautiful and very tasty red curry with vegetables. The rice was perfect and the side condiments were first rate. The onion naan was huge and delicious. You can see my pictures for a better idea of what we had. Highly recommended.\n",
      "Aspects: ['atmosphere', 'food', 'service', 'owner', 'curry', 'rice', 'onion naan']\n",
      "Sentiment: ['Positive', 'Positive', 'Positive', 'Positive', 'Positive', 'Positive', 'Positive']\n",
      "\n"
     ]
    }
   ],
   "source": [
    "final_long=[ 44823,  62302,  82119, 183012, 317114, 320417, 324000, 335281, 341490, 404605, 457119, 478264, 488909, 532973]\n",
    "for review in final_long:\n",
    "    print('Review:',long_reviews['Comment'][review])\n",
    "    analyze_aspect_sentiment_pyasab(long_reviews['Comment'][review])\n",
    "    print('')\n"
   ]
  },
  {
   "cell_type": "code",
   "execution_count": 4,
   "metadata": {},
   "outputs": [
    {
     "name": "stdout",
     "output_type": "stream",
     "text": [
      "Review: Went there for lunch buffet. I always crave Indian food so loved it.. the variety is good from dosa to pani puri to North Indian to nice desserts. liked the experience :)\n",
      "Aspects: ['lunch buffet', 'food', 'variety', 'dosa', 'desserts']\n",
      "Sentiment: ['Neutral', 'Positive', 'Positive', 'Positive', 'Positive']\n",
      "\n",
      "Review: Love this place! Great atmosphere, great staff and awesome food! I love the Eggs Benedict !\n",
      "Aspects: ['atmosphere', 'staff', 'food', 'Eggs Benedict']\n",
      "Sentiment: ['Positive', 'Positive', 'Positive', 'Positive']\n",
      "\n",
      "Review: Awesome food market near Grand Central Park. The choices of food is excellent. I usually have either Korean food or any mixed (sushi, fish, salad, rice, tofu, noodle) food.\n",
      "Aspects: ['food', 'choices of food', 'rice']\n",
      "Sentiment: ['Positive', 'Positive', 'Neutral']\n",
      "\n",
      "Review: BBQ is very good, but as to delivery they left 1/3 off my order. Disappointing, especially since I paid for the food that was never delivered.\n",
      "Aspects: ['BBQ', 'delivery', 'food']\n",
      "Sentiment: ['Positive', 'Negative', 'Negative']\n",
      "\n",
      "Review: Good but not great by any means. Ordered 6-7 different things (sushi, tuna tartare, fried chicken, noodle omelette, etc.) and we were not that impressed. The vibe is cool though, and the saki is cheap.\n",
      "Aspects: ['tuna tartare', 'fried chicken', 'vibe', 'saki']\n",
      "Sentiment: ['Neutral', 'Neutral', 'Positive', 'Positive']\n",
      "\n",
      "Review: This place never turns on the heat. Freezing cold during winter. Inconsistent food. Mean owner and server showed attitude when I told him food wasn't good.\n",
      "Aspects: ['food', 'owner', 'server']\n",
      "Sentiment: ['Negative', 'Negative', 'Negative']\n",
      "\n",
      "Review: had mixed grill, combination of chicken shih taouk, beef kebab & kafta; and the garlic butter dip that come with it is DIVINE. also, Sambousik Jebne, a pastry stuffed with halloumi cheese & fresh oregano were also very tasty.\n",
      "Aspects: ['mixed grill', 'beef kebab', 'garlic butter dip', 'pastry stuffed with halloumi cheese', 'oregano']\n",
      "Sentiment: ['Neutral', 'Neutral', 'Positive', 'Positive', 'Positive']\n",
      "\n",
      "Review: Horrible food. Ordered Masala Chicken and Beef Chili, both taste aweful. Food decoration and service terrifically very low.\n",
      "Aspects: ['food', 'Beef Chili', 'Food decoration', 'service']\n",
      "Sentiment: ['Negative', 'Neutral', 'Negative', 'Negative']\n",
      "\n",
      "Review: Amazing food! Service is great. So damn cute. Order the seafood salad. It's enough for 2 people. Would return.\n",
      "Aspects: ['food', 'Service', 'seafood salad']\n",
      "Sentiment: ['Positive', 'Positive', 'Neutral']\n",
      "\n",
      "Review: Loved the decor!! Food was fantastic! Would highly recommend the tuna tartare and the braised short rib!!!\n",
      "Aspects: ['decor', 'Food', 'tuna tartare', 'braised short rib']\n",
      "Sentiment: ['Positive', 'Positive', 'Positive', 'Positive']\n",
      "\n",
      "Review: The Caesar is amazing! But the service here is the WORST!!! The guys working there have no Idea what is going on. Too bad\n",
      "Aspects: ['service', 'guys']\n",
      "Sentiment: ['Negative', 'Negative']\n",
      "\n",
      "Review: Ive had both their breakfast burrito and a chicken burrito. The ingredients are all fresh and tasty but they are very heavy on the rice.\n",
      "Aspects: ['breakfast burrito', 'chicken burrito', 'ingredients', 'rice']\n",
      "Sentiment: ['Neutral', 'Neutral', 'Positive', 'Negative']\n",
      "\n",
      "Review: Just had my first brunch here. The place is very nice and the food and service were excellent. Happy to recommend!\n",
      "Aspects: ['brunch', 'place', 'food', 'service']\n",
      "Sentiment: ['Neutral', 'Positive', 'Positive', 'Positive']\n",
      "\n"
     ]
    }
   ],
   "source": [
    "final = [7192,  48502,  52475,  80773,  85571,  95526, 126164, 158729, 189959, 192087, 193590, 200569, 203869]\n",
    "for review in final:\n",
    "    print('Review:',short_reviews['Comment'][review])\n",
    "    analyze_aspect_sentiment_pyasab(short_reviews['Comment'][review])\n",
    "    print('')"
   ]
  },
  {
   "cell_type": "code",
   "execution_count": 22,
   "metadata": {},
   "outputs": [],
   "source": [
    "analysis_1 = \"The aspects identified align with the sentiment labels, capturing the positive experience with food variety.\"\n",
    "\n",
    "analysis_2 = \"The aspects identified align with the sentiment labels, recognized the specific dish name.\"\n",
    "\n",
    "analysis_3 = \"The model performed poorly for this review. Failed to capture food market as a whole word. Only captured rice and not other ingredients.\"\n",
    "\n",
    "analysis_4 = \"The positive sentiment on BBQ is accurate, the negative sentiments on delivery service align well with the review. The aspect 'food' in ambiguous since customer is not talking about the quality of the food specifically.\"\n",
    "\n",
    "analysis_5 = \"Failed to capture all the food mentioned in the review.\"\n",
    "\n",
    "analysis_6 = \"Failed to capture the temperature aspect, but all aspect captured aligns with the actual sentiment.\"\n",
    "\n",
    "analysis_7 = \"Failed to capture all the food mentioned in the review.\"\n",
    "\n",
    "analysis_8 = \"Aspects captured are accurate. However, the models seems to struggle with food items when their position in the sentence are really close\"\n",
    "\n",
    "analysis_9 = \"The aspects identified align with the sentiment labels.\"\n",
    "\n",
    "analysis_10 = \"The aspects identified align with the sentiment labels.\"\n",
    "\n",
    "analysis_11 = \"Didn't capture the name of the food. The aspect guys might be confusing.\"\n",
    "\n",
    "analysis_12 = \"The aspects identified align with the sentiment labels.\"\n",
    "\n",
    "analysis_13 = \"The aspects identified align with the sentiment labels.\"\n",
    "\n",
    "# Compiling all analyses into a list\n",
    "analyses = [analysis_1, analysis_2, analysis_3, analysis_4, analysis_5, analysis_6, analysis_7, analysis_8, analysis_9, analysis_10, analysis_11, analysis_12, analysis_13]\n"
   ]
  },
  {
   "cell_type": "code",
   "execution_count": 23,
   "metadata": {},
   "outputs": [],
   "source": [
    "analysis_14 = \"The aspects identified align with the negative sentiments, capturing the poor quality of various dishes. However, the model fails to capture the aspect of the delivery experience through Seamless.\"\n",
    "\n",
    "analysis_15 = \"The model captures the positive sentiments about waitresses and atmosphere effectively, but it misses other key aspects like the diverse menu options and the unique pizza preparation experience.\"\n",
    "\n",
    "analysis_16 = \"The positive sentiments align well with the aspects of staff, food, and specific dishes, accurately reflecting the reviewer's satisfaction. However, the model could include aspects of the restaurant's location and its convenience for theater-goers.\"\n",
    "\n",
    "analysis_17 = \"Negative sentiments on menu, service, and food are accurate, but the model misses the aspect of cultural authenticity in the dishes. The positive sentiment on decor is well-captured, though the specific critique of the artwork is overlooked.\"\n",
    "\n",
    "analysis_18 = \"The model captures the negative sentiment on pricing accurately, but it fails to address the broader aspect of customer confusion over pricing and the specific incident with sauce charging.\"\n",
    "\n",
    "analysis_19 = \"Positive sentiments on decor, food quality, and specific dishes are well-aligned, but the negative sentiment on the waiter's over-eagerness suggests a nuanced understanding of service quality.\"\n",
    "\n",
    "analysis_20 = \"The negative sentiments on various aspects of the dining experience, including the hostess and server's attitude and food quality, are well-aligned with the review. However, the model misses the aspect of the restaurant's overall ambiance and its comparison to other locations.\"\n",
    "\n",
    "analysis_21 = \"The model accurately captures the positive sentiment on pizza quality but fails to address the significant negative aspect of delivery time, which greatly impacted the customer's experience.\"\n",
    "\n",
    "analysis_22 = \"Positive sentiments on prices and staff align with the reviewer's experience, but the model overlooks aspects of the specific dishes enjoyed and the overall dining ambiance.\"\n",
    "\n",
    "analysis_23 = \"The model captures the mixed sentiments on paella and service accurately, but it overlooks the aspect of pricing policy for shared dishes, which is a key point of dissatisfaction.\"\n",
    "\n",
    "analysis_24 = \"Negative sentiments on delivery and food quality are well-aligned, but the model fails to capture the broader aspect of the restaurant's overall service standard and comparison to other experiences in NYC.\"\n",
    "\n",
    "analysis_25 = \"Positive sentiments on various dishes and pricing align with the review, but the model overlooks aspects of the restaurant's ambiance and seating capacity, which are part of the overall experience.\"\n",
    "\n",
    "analysis_26 = \"The model captures the positive sentiments on food quality and specific dishes well, but the negative sentiment on table arrangement suggests a nuanced understanding of the dining space's comfort.\"\n",
    "\n",
    "analysis_27 = \"Positive sentiments on atmosphere, food, service, and specific dishes accurately reflect the reviewer's experience. However, the model could include aspects of the restaurant's size and the owner's personal engagement with customers.\"\n",
    "\n",
    "analysis_long = [\n",
    "    analysis_14, analysis_15, analysis_16, analysis_17, analysis_18, \n",
    "    analysis_19, analysis_20, analysis_21, analysis_22, analysis_23, \n",
    "    analysis_24, analysis_25, analysis_26, analysis_27\n",
    "]\n",
    "\n"
   ]
  },
  {
   "cell_type": "code",
   "execution_count": 9,
   "metadata": {},
   "outputs": [],
   "source": [
    "import pandas as pd\n",
    "def analyze_aspect_sentiment_pyasab(text):\n",
    "    result=aspect_extractor.predict([text],\n",
    "                         save_result=False,\n",
    "                         print_result=False,  # print the result\n",
    "                         ignore_error=True,  # ignore the error when the model cannot predict the input\n",
    "                         )\n",
    "    return result"
   ]
  },
  {
   "cell_type": "code",
   "execution_count": 17,
   "metadata": {},
   "outputs": [],
   "source": [
    "short_index = [7192,  48502,  52475,  80773,  85571,  95526, 126164, 158729, 189959, 192087, 193590, 200569, 203869]\n",
    "sentiment_short=[]\n",
    "for index in short_index:\n",
    "    result=analyze_aspect_sentiment_pyasab(short_reviews['Comment'][index])\n",
    "    sentiment_short.append({'aspect':result[0]['aspect'],'sentiment':result[0]['sentiment']})"
   ]
  },
  {
   "cell_type": "code",
   "execution_count": 18,
   "metadata": {},
   "outputs": [],
   "source": [
    "long_index = [44823,  62302,  82119, 183012, 317114, 320417, 324000, 335281, 341490, 404605, 457119, 478264, 488909, 532973]\n",
    "sentiment_long=[]\n",
    "for index in long_index:\n",
    "    result=analyze_aspect_sentiment_pyasab(long_reviews['Comment'][index])\n",
    "    sentiment_long.append({'aspect':result[0]['aspect'],'sentiment':result[0]['sentiment']})"
   ]
  },
  {
   "cell_type": "code",
   "execution_count": 24,
   "metadata": {},
   "outputs": [],
   "source": [
    "# Create a DataFrame\n",
    "df_short= pd.DataFrame({\n",
    "    'Index': short_index,\n",
    "    'Sentiment Analysis Output': sentiment_short,\n",
    "    'Comments/Analysis': analyses\n",
    "})\n",
    "\n",
    "# Output to CSV\n",
    "df_short.to_csv('short_review_pyabsa.csv', index=False)\n"
   ]
  },
  {
   "cell_type": "code",
   "execution_count": 28,
   "metadata": {},
   "outputs": [],
   "source": [
    "# Create a DataFrame\n",
    "df_long= pd.DataFrame({\n",
    "    'Index': long_index,\n",
    "    'Sentiment Analysis Output': sentiment_long,\n",
    "    'Comments/Analysis': analysis_long\n",
    "})\n",
    "\n",
    "# Output to CSV\n",
    "df_long.to_csv('long_review_pyabsa.csv', index=False)\n"
   ]
  }
 ],
 "metadata": {
  "kernelspec": {
   "display_name": "base",
   "language": "python",
   "name": "python3"
  },
  "language_info": {
   "codemirror_mode": {
    "name": "ipython",
    "version": 3
   },
   "file_extension": ".py",
   "mimetype": "text/x-python",
   "name": "python",
   "nbconvert_exporter": "python",
   "pygments_lexer": "ipython3",
   "version": "3.11.6"
  }
 },
 "nbformat": 4,
 "nbformat_minor": 2
}
