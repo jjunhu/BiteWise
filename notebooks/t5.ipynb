{
 "cells": [
  {
   "cell_type": "code",
   "execution_count": 1,
   "metadata": {},
   "outputs": [],
   "source": [
    "# Load model directly\n",
    "from transformers import AutoTokenizer, AutoModelForSeq2SeqLM, Seq2SeqTrainingArguments, Seq2SeqTrainer\n",
    "\n",
    "tokenizer = AutoTokenizer.from_pretrained(\"Falconsai/text_summarization\")\n",
    "model = AutoModelForSeq2SeqLM.from_pretrained(\"Falconsai/text_summarization\")"
   ]
  },
  {
   "cell_type": "code",
   "execution_count": 2,
   "metadata": {},
   "outputs": [],
   "source": [
    "import pandas as pd\n",
    "import datasets\n",
    "from sklearn.model_selection import train_test_split\n",
    "\n",
    "file_name = '../data/processed/summarized_insights.csv'\n",
    "\n",
    "dataset = datasets.load_dataset(\"csv\", data_files=file_name)\n"
   ]
  },
  {
   "cell_type": "code",
   "execution_count": 3,
   "metadata": {},
   "outputs": [],
   "source": [
    "def preprocess_function(examples):\n",
    "    inputs = [doc for doc in examples[\"Combined Comments\"]]\n",
    "    model_inputs = tokenizer(inputs, max_length=512, padding=\"max_length\", truncation=True)\n",
    "\n",
    "    # Setup the tokenizer for targets\n",
    "    with tokenizer.as_target_tokenizer():\n",
    "        labels = tokenizer(examples[\"Summary\"], max_length=128, padding=\"max_length\", truncation=True)\n",
    "\n",
    "    model_inputs[\"labels\"] = labels[\"input_ids\"]\n",
    "    return model_inputs\n",
    "\n",
    "tokenized_datasets = dataset.map(preprocess_function, batched=True)"
   ]
  },
  {
   "cell_type": "code",
   "execution_count": 4,
   "metadata": {},
   "outputs": [],
   "source": [
    "# Split the tokenized dataset into training and temp datasets (70% training, 30% temp)\n",
    "train_dataset, temp_dataset = tokenized_datasets['train'].train_test_split(test_size=0.3).values()\n",
    "\n",
    "# Split the temp dataset into evaluation and test datasets (50% evaluation, 50% test)\n",
    "eval_dataset, test_dataset = temp_dataset.train_test_split(test_size=0.5).values()"
   ]
  },
  {
   "cell_type": "code",
   "execution_count": 10,
   "metadata": {},
   "outputs": [],
   "source": [
    "training_args = Seq2SeqTrainingArguments(\n",
    "    output_dir=\"./results\",\n",
    "    evaluation_strategy=\"epoch\",\n",
    "    learning_rate=2e-5,\n",
    "    per_device_train_batch_size=4,\n",
    "    per_device_eval_batch_size=4,\n",
    "    weight_decay=0.01,\n",
    "    save_total_limit=3,\n",
    "    num_train_epochs=8,\n",
    "    predict_with_generate=True,\n",
    ")\n"
   ]
  },
  {
   "cell_type": "code",
   "execution_count": 18,
   "metadata": {},
   "outputs": [
    {
     "data": {
      "application/vnd.jupyter.widget-view+json": {
       "model_id": "718d4b2e2a954857b9af196111122773",
       "version_major": 2,
       "version_minor": 0
      },
      "text/plain": [
       "  0%|          | 0/1800 [00:00<?, ?it/s]"
      ]
     },
     "metadata": {},
     "output_type": "display_data"
    },
    {
     "data": {
      "application/vnd.jupyter.widget-view+json": {
       "model_id": "b09635abebb84f8d9ab983b7a930969b",
       "version_major": 2,
       "version_minor": 0
      },
      "text/plain": [
       "  0%|          | 0/34 [00:00<?, ?it/s]"
      ]
     },
     "metadata": {},
     "output_type": "display_data"
    },
    {
     "name": "stdout",
     "output_type": "stream",
     "text": [
      "{'eval_loss': 2.3873629570007324, 'eval_runtime': 1.9832, 'eval_samples_per_second': 68.071, 'eval_steps_per_second': 17.144, 'epoch': 1.0}\n"
     ]
    },
    {
     "data": {
      "application/vnd.jupyter.widget-view+json": {
       "model_id": "10b791c0087e4f1790c132075bb08644",
       "version_major": 2,
       "version_minor": 0
      },
      "text/plain": [
       "  0%|          | 0/34 [00:00<?, ?it/s]"
      ]
     },
     "metadata": {},
     "output_type": "display_data"
    },
    {
     "name": "stdout",
     "output_type": "stream",
     "text": [
      "{'eval_loss': 2.3538718223571777, 'eval_runtime': 1.996, 'eval_samples_per_second': 67.637, 'eval_steps_per_second': 17.034, 'epoch': 2.0}\n",
      "{'loss': 2.5798, 'learning_rate': 1.4444444444444446e-05, 'epoch': 2.22}\n"
     ]
    },
    {
     "data": {
      "application/vnd.jupyter.widget-view+json": {
       "model_id": "1e34e697ca6e483598c887bad116e716",
       "version_major": 2,
       "version_minor": 0
      },
      "text/plain": [
       "  0%|          | 0/34 [00:00<?, ?it/s]"
      ]
     },
     "metadata": {},
     "output_type": "display_data"
    },
    {
     "name": "stdout",
     "output_type": "stream",
     "text": [
      "{'eval_loss': 2.3295717239379883, 'eval_runtime': 1.9548, 'eval_samples_per_second': 69.061, 'eval_steps_per_second': 17.393, 'epoch': 3.0}\n"
     ]
    },
    {
     "data": {
      "application/vnd.jupyter.widget-view+json": {
       "model_id": "3182b4bfefc94c9494cab4cd73610c6e",
       "version_major": 2,
       "version_minor": 0
      },
      "text/plain": [
       "  0%|          | 0/34 [00:00<?, ?it/s]"
      ]
     },
     "metadata": {},
     "output_type": "display_data"
    },
    {
     "name": "stdout",
     "output_type": "stream",
     "text": [
      "{'eval_loss': 2.30973219871521, 'eval_runtime': 1.9892, 'eval_samples_per_second': 67.866, 'eval_steps_per_second': 17.092, 'epoch': 4.0}\n",
      "{'loss': 2.5354, 'learning_rate': 8.888888888888888e-06, 'epoch': 4.44}\n"
     ]
    },
    {
     "data": {
      "application/vnd.jupyter.widget-view+json": {
       "model_id": "46ae208d6cd44f1ea925173d10b34ec1",
       "version_major": 2,
       "version_minor": 0
      },
      "text/plain": [
       "  0%|          | 0/34 [00:00<?, ?it/s]"
      ]
     },
     "metadata": {},
     "output_type": "display_data"
    },
    {
     "name": "stdout",
     "output_type": "stream",
     "text": [
      "{'eval_loss': 2.294679641723633, 'eval_runtime': 1.9817, 'eval_samples_per_second': 68.125, 'eval_steps_per_second': 17.157, 'epoch': 5.0}\n"
     ]
    },
    {
     "data": {
      "application/vnd.jupyter.widget-view+json": {
       "model_id": "69f5f16f93d94b3ab83422048e594676",
       "version_major": 2,
       "version_minor": 0
      },
      "text/plain": [
       "  0%|          | 0/34 [00:00<?, ?it/s]"
      ]
     },
     "metadata": {},
     "output_type": "display_data"
    },
    {
     "name": "stdout",
     "output_type": "stream",
     "text": [
      "{'eval_loss': 2.284925699234009, 'eval_runtime': 2.0162, 'eval_samples_per_second': 66.956, 'eval_steps_per_second': 16.863, 'epoch': 6.0}\n",
      "{'loss': 2.4945, 'learning_rate': 3.3333333333333333e-06, 'epoch': 6.67}\n"
     ]
    },
    {
     "data": {
      "application/vnd.jupyter.widget-view+json": {
       "model_id": "8d1250af96fe44df88c7e988c7353d11",
       "version_major": 2,
       "version_minor": 0
      },
      "text/plain": [
       "  0%|          | 0/34 [00:00<?, ?it/s]"
      ]
     },
     "metadata": {},
     "output_type": "display_data"
    },
    {
     "name": "stdout",
     "output_type": "stream",
     "text": [
      "{'eval_loss': 2.2790894508361816, 'eval_runtime': 2.0083, 'eval_samples_per_second': 67.222, 'eval_steps_per_second': 16.93, 'epoch': 7.0}\n"
     ]
    },
    {
     "data": {
      "application/vnd.jupyter.widget-view+json": {
       "model_id": "7ef2928de40141bfb55c843832e9f5c7",
       "version_major": 2,
       "version_minor": 0
      },
      "text/plain": [
       "  0%|          | 0/34 [00:00<?, ?it/s]"
      ]
     },
     "metadata": {},
     "output_type": "display_data"
    },
    {
     "name": "stdout",
     "output_type": "stream",
     "text": [
      "{'eval_loss': 2.2770018577575684, 'eval_runtime': 2.0116, 'eval_samples_per_second': 67.11, 'eval_steps_per_second': 16.902, 'epoch': 8.0}\n",
      "{'train_runtime': 606.224, 'train_samples_per_second': 11.877, 'train_steps_per_second': 2.969, 'train_loss': 2.5305128987630208, 'epoch': 8.0}\n"
     ]
    },
    {
     "data": {
      "image/png": "[encoded data removed]",
      "text/plain": [
       "<Figure size 1000x600 with 1 Axes>"
      ]
     },
     "metadata": {},
     "output_type": "display_data"
    }
   ],
   "source": [
    "import pandas as pd\n",
    "import matplotlib.pyplot as plt\n",
    "\n",
    "# Your training code\n",
    "trainer = Seq2SeqTrainer(\n",
    "    model=model,\n",
    "    args=training_args,\n",
    "    train_dataset=tokenized_datasets['train'],\n",
    "    tokenizer=tokenizer,\n",
    "    eval_dataset=eval_dataset\n",
    ")\n",
    "\n",
    "trainer.train()\n",
    "\n",
    "# Extracting loss values from the log history\n",
    "log_history = trainer.state.log_history\n",
    "df_logs = pd.DataFrame(log_history)\n",
    "\n",
    "# Filtering out rows with loss values\n",
    "train_logs = df_logs[df_logs['loss'].notnull()]\n",
    "eval_logs = df_logs[df_logs['eval_loss'].notnull()]\n",
    "\n",
    "# Plotting the loss curves\n",
    "plt.figure(figsize=(10, 6))\n",
    "plt.plot(train_logs['step'], train_logs['loss'], label='Training Loss')\n",
    "plt.plot(eval_logs['step'], eval_logs['eval_loss'], label='Evaluation Loss')\n",
    "plt.title('Training and Evaluation Loss Over Training Steps')\n",
    "plt.xlabel('Training Steps')\n",
    "plt.ylabel('Loss')\n",
    "plt.legend()\n",
    "plt.show()\n"
   ]
  },
  {
   "cell_type": "code",
   "execution_count": 12,
   "metadata": {},
   "outputs": [
    {
     "data": {
      "text/html": [
       "<div>\n",
       "<style scoped>\n",
       "    .dataframe tbody tr th:only-of-type {\n",
       "        vertical-align: middle;\n",
       "    }\n",
       "\n",
       "    .dataframe tbody tr th {\n",
       "        vertical-align: top;\n",
       "    }\n",
       "\n",
       "    .dataframe thead th {\n",
       "        text-align: right;\n",
       "    }\n",
       "</style>\n",
       "<table border=\"1\" class=\"dataframe\">\n",
       "  <thead>\n",
       "    <tr style=\"text-align: right;\">\n",
       "      <th></th>\n",
       "      <th>eval_loss</th>\n",
       "      <th>eval_runtime</th>\n",
       "      <th>eval_samples_per_second</th>\n",
       "      <th>eval_steps_per_second</th>\n",
       "      <th>epoch</th>\n",
       "      <th>step</th>\n",
       "      <th>loss</th>\n",
       "      <th>learning_rate</th>\n",
       "      <th>train_runtime</th>\n",
       "      <th>train_samples_per_second</th>\n",
       "      <th>train_steps_per_second</th>\n",
       "      <th>total_flos</th>\n",
       "      <th>train_loss</th>\n",
       "    </tr>\n",
       "  </thead>\n",
       "  <tbody>\n",
       "    <tr>\n",
       "      <th>0</th>\n",
       "      <td>2.664816</td>\n",
       "      <td>1.9657</td>\n",
       "      <td>68.678</td>\n",
       "      <td>17.297</td>\n",
       "      <td>1.00</td>\n",
       "      <td>225</td>\n",
       "      <td>NaN</td>\n",
       "      <td>NaN</td>\n",
       "      <td>NaN</td>\n",
       "      <td>NaN</td>\n",
       "      <td>NaN</td>\n",
       "      <td>NaN</td>\n",
       "      <td>NaN</td>\n",
       "    </tr>\n",
       "    <tr>\n",
       "      <th>1</th>\n",
       "      <td>2.574870</td>\n",
       "      <td>1.9990</td>\n",
       "      <td>67.533</td>\n",
       "      <td>17.008</td>\n",
       "      <td>2.00</td>\n",
       "      <td>450</td>\n",
       "      <td>NaN</td>\n",
       "      <td>NaN</td>\n",
       "      <td>NaN</td>\n",
       "      <td>NaN</td>\n",
       "      <td>NaN</td>\n",
       "      <td>NaN</td>\n",
       "      <td>NaN</td>\n",
       "    </tr>\n",
       "    <tr>\n",
       "      <th>2</th>\n",
       "      <td>NaN</td>\n",
       "      <td>NaN</td>\n",
       "      <td>NaN</td>\n",
       "      <td>NaN</td>\n",
       "      <td>2.22</td>\n",
       "      <td>500</td>\n",
       "      <td>2.9342</td>\n",
       "      <td>0.000014</td>\n",
       "      <td>NaN</td>\n",
       "      <td>NaN</td>\n",
       "      <td>NaN</td>\n",
       "      <td>NaN</td>\n",
       "      <td>NaN</td>\n",
       "    </tr>\n",
       "    <tr>\n",
       "      <th>3</th>\n",
       "      <td>2.519457</td>\n",
       "      <td>2.0087</td>\n",
       "      <td>67.208</td>\n",
       "      <td>16.926</td>\n",
       "      <td>3.00</td>\n",
       "      <td>675</td>\n",
       "      <td>NaN</td>\n",
       "      <td>NaN</td>\n",
       "      <td>NaN</td>\n",
       "      <td>NaN</td>\n",
       "      <td>NaN</td>\n",
       "      <td>NaN</td>\n",
       "      <td>NaN</td>\n",
       "    </tr>\n",
       "    <tr>\n",
       "      <th>4</th>\n",
       "      <td>2.482509</td>\n",
       "      <td>2.2050</td>\n",
       "      <td>61.225</td>\n",
       "      <td>15.420</td>\n",
       "      <td>4.00</td>\n",
       "      <td>900</td>\n",
       "      <td>NaN</td>\n",
       "      <td>NaN</td>\n",
       "      <td>NaN</td>\n",
       "      <td>NaN</td>\n",
       "      <td>NaN</td>\n",
       "      <td>NaN</td>\n",
       "      <td>NaN</td>\n",
       "    </tr>\n",
       "    <tr>\n",
       "      <th>5</th>\n",
       "      <td>NaN</td>\n",
       "      <td>NaN</td>\n",
       "      <td>NaN</td>\n",
       "      <td>NaN</td>\n",
       "      <td>4.44</td>\n",
       "      <td>1000</td>\n",
       "      <td>2.7523</td>\n",
       "      <td>0.000009</td>\n",
       "      <td>NaN</td>\n",
       "      <td>NaN</td>\n",
       "      <td>NaN</td>\n",
       "      <td>NaN</td>\n",
       "      <td>NaN</td>\n",
       "    </tr>\n",
       "    <tr>\n",
       "      <th>6</th>\n",
       "      <td>2.456422</td>\n",
       "      <td>2.5104</td>\n",
       "      <td>53.776</td>\n",
       "      <td>13.544</td>\n",
       "      <td>5.00</td>\n",
       "      <td>1125</td>\n",
       "      <td>NaN</td>\n",
       "      <td>NaN</td>\n",
       "      <td>NaN</td>\n",
       "      <td>NaN</td>\n",
       "      <td>NaN</td>\n",
       "      <td>NaN</td>\n",
       "      <td>NaN</td>\n",
       "    </tr>\n",
       "    <tr>\n",
       "      <th>7</th>\n",
       "      <td>2.440261</td>\n",
       "      <td>2.0037</td>\n",
       "      <td>67.377</td>\n",
       "      <td>16.969</td>\n",
       "      <td>6.00</td>\n",
       "      <td>1350</td>\n",
       "      <td>NaN</td>\n",
       "      <td>NaN</td>\n",
       "      <td>NaN</td>\n",
       "      <td>NaN</td>\n",
       "      <td>NaN</td>\n",
       "      <td>NaN</td>\n",
       "      <td>NaN</td>\n",
       "    </tr>\n",
       "    <tr>\n",
       "      <th>8</th>\n",
       "      <td>NaN</td>\n",
       "      <td>NaN</td>\n",
       "      <td>NaN</td>\n",
       "      <td>NaN</td>\n",
       "      <td>6.67</td>\n",
       "      <td>1500</td>\n",
       "      <td>2.6644</td>\n",
       "      <td>0.000003</td>\n",
       "      <td>NaN</td>\n",
       "      <td>NaN</td>\n",
       "      <td>NaN</td>\n",
       "      <td>NaN</td>\n",
       "      <td>NaN</td>\n",
       "    </tr>\n",
       "    <tr>\n",
       "      <th>9</th>\n",
       "      <td>2.430324</td>\n",
       "      <td>2.0081</td>\n",
       "      <td>67.228</td>\n",
       "      <td>16.932</td>\n",
       "      <td>7.00</td>\n",
       "      <td>1575</td>\n",
       "      <td>NaN</td>\n",
       "      <td>NaN</td>\n",
       "      <td>NaN</td>\n",
       "      <td>NaN</td>\n",
       "      <td>NaN</td>\n",
       "      <td>NaN</td>\n",
       "      <td>NaN</td>\n",
       "    </tr>\n",
       "    <tr>\n",
       "      <th>10</th>\n",
       "      <td>2.427111</td>\n",
       "      <td>2.0272</td>\n",
       "      <td>66.595</td>\n",
       "      <td>16.772</td>\n",
       "      <td>8.00</td>\n",
       "      <td>1800</td>\n",
       "      <td>NaN</td>\n",
       "      <td>NaN</td>\n",
       "      <td>NaN</td>\n",
       "      <td>NaN</td>\n",
       "      <td>NaN</td>\n",
       "      <td>NaN</td>\n",
       "      <td>NaN</td>\n",
       "    </tr>\n",
       "    <tr>\n",
       "      <th>11</th>\n",
       "      <td>NaN</td>\n",
       "      <td>NaN</td>\n",
       "      <td>NaN</td>\n",
       "      <td>NaN</td>\n",
       "      <td>8.00</td>\n",
       "      <td>1800</td>\n",
       "      <td>NaN</td>\n",
       "      <td>NaN</td>\n",
       "      <td>620.5955</td>\n",
       "      <td>11.602</td>\n",
       "      <td>2.9</td>\n",
       "      <td>9.744610e+14</td>\n",
       "      <td>2.762141</td>\n",
       "    </tr>\n",
       "  </tbody>\n",
       "</table>\n",
       "</div>"
      ],
      "text/plain": [
       "    eval_loss  eval_runtime  eval_samples_per_second  eval_steps_per_second  \\\n",
       "0    2.664816        1.9657                   68.678                 17.297   \n",
       "1    2.574870        1.9990                   67.533                 17.008   \n",
       "2         NaN           NaN                      NaN                    NaN   \n",
       "3    2.519457        2.0087                   67.208                 16.926   \n",
       "4    2.482509        2.2050                   61.225                 15.420   \n",
       "5         NaN           NaN                      NaN                    NaN   \n",
       "6    2.456422        2.5104                   53.776                 13.544   \n",
       "7    2.440261        2.0037                   67.377                 16.969   \n",
       "8         NaN           NaN                      NaN                    NaN   \n",
       "9    2.430324        2.0081                   67.228                 16.932   \n",
       "10   2.427111        2.0272                   66.595                 16.772   \n",
       "11        NaN           NaN                      NaN                    NaN   \n",
       "\n",
       "    epoch  step    loss  learning_rate  train_runtime  \\\n",
       "0    1.00   225     NaN            NaN            NaN   \n",
       "1    2.00   450     NaN            NaN            NaN   \n",
       "2    2.22   500  2.9342       0.000014            NaN   \n",
       "3    3.00   675     NaN            NaN            NaN   \n",
       "4    4.00   900     NaN            NaN            NaN   \n",
       "5    4.44  1000  2.7523       0.000009            NaN   \n",
       "6    5.00  1125     NaN            NaN            NaN   \n",
       "7    6.00  1350     NaN            NaN            NaN   \n",
       "8    6.67  1500  2.6644       0.000003            NaN   \n",
       "9    7.00  1575     NaN            NaN            NaN   \n",
       "10   8.00  1800     NaN            NaN            NaN   \n",
       "11   8.00  1800     NaN            NaN       620.5955   \n",
       "\n",
       "    train_samples_per_second  train_steps_per_second    total_flos  train_loss  \n",
       "0                        NaN                     NaN           NaN         NaN  \n",
       "1                        NaN                     NaN           NaN         NaN  \n",
       "2                        NaN                     NaN           NaN         NaN  \n",
       "3                        NaN                     NaN           NaN         NaN  \n",
       "4                        NaN                     NaN           NaN         NaN  \n",
       "5                        NaN                     NaN           NaN         NaN  \n",
       "6                        NaN                     NaN           NaN         NaN  \n",
       "7                        NaN                     NaN           NaN         NaN  \n",
       "8                        NaN                     NaN           NaN         NaN  \n",
       "9                        NaN                     NaN           NaN         NaN  \n",
       "10                       NaN                     NaN           NaN         NaN  \n",
       "11                    11.602                     2.9  9.744610e+14    2.762141  "
      ]
     },
     "execution_count": 12,
     "metadata": {},
     "output_type": "execute_result"
    }
   ],
   "source": [
    "pd.DataFrame(trainer.state.log_history)\n"
   ]
  },
  {
   "cell_type": "code",
   "execution_count": 13,
   "metadata": {},
   "outputs": [
    {
     "name": "stdout",
     "output_type": "stream",
     "text": [
      "- Address the issue of a mild heat to ensure that the spices are not too spicy for the customer. - Address the issue of kottu, a small side & soda, as it is not recommended for those looking for Sri Lankan kottu. - Address the issue of a lack of water to avoid a stale taste. - Address the issue of a lack of water to avoid a stale taste. - Address the issue of kottu, as it is not recommended for those looking for a sprinkling.\n"
     ]
    }
   ],
   "source": [
    "example = eval_dataset[1]\n",
    "inputs = tokenizer(example[\"Combined Comments\"], return_tensors=\"pt\", padding=True, truncation=True, max_length=512)\n",
    "outputs = model.generate(input_ids=inputs[\"input_ids\"].to(model.device), attention_mask=inputs[\"attention_mask\"].to(model.device), max_length=128)\n",
    "prediction = tokenizer.decode(outputs[0], skip_special_tokens=True)\n",
    "\n",
    "print(prediction)"
   ]
  },
  {
   "cell_type": "code",
   "execution_count": 15,
   "metadata": {},
   "outputs": [
    {
     "name": "stderr",
     "output_type": "stream",
     "text": [
      "huggingface/tokenizers: The current process just got forked, after parallelism has already been used. Disabling parallelism to avoid deadlocks...\n",
      "To disable this warning, you can either:\n",
      "\t- Avoid using `tokenizers` before the fork if possible\n",
      "\t- Explicitly set the environment variable TOKENIZERS_PARALLELISM=(true | false)\n"
     ]
    },
    {
     "name": "stdout",
     "output_type": "stream",
     "text": [
      "Requirement already satisfied: tabulate in /Users/jonathanhu/anaconda3/envs/tf_metal/lib/python3.8/site-packages (0.9.0)\n"
     ]
    }
   ],
   "source": [
    "! pip install tabulate\n"
   ]
  },
  {
   "cell_type": "code",
   "execution_count": 14,
   "metadata": {},
   "outputs": [
    {
     "name": "stdout",
     "output_type": "stream",
     "text": [
      "- Address the issue of a mild heat to ensure that the spices are not too spicy for the customer. - Address the issue of kottu, a small side & soda, as it is not recommended for those looking for Sri Lankan kottu. - Address the issue of a lack of water to avoid a stale taste. - Address the issue of a lack of water to avoid a stale taste. - Address the issue of kottu, as it is not recommended for those looking for a sprinkling.\n",
      "Not for those that don't take spices, as myself. Even with the very mild heat that was requested, it was still too spicy for me. But good value for lunch. Comes w/ a small box of kottu, a small side & soda. // Idk if it was just me but the lentil patties are so exceedingly dry I could barely choke down one without reaching for water. // I don't know what I just ate, but it was really bad. // Spies tasted too raw and dry. Not recommended for those looking for Sri Lankan kottu. Coffee flan looks like Cat Food.\n"
     ]
    }
   ],
   "source": [
    "print(prediction)\n",
    "print(example[\"Combined Comments\"])"
   ]
  },
  {
   "cell_type": "code",
   "execution_count": 17,
   "metadata": {},
   "outputs": [
    {
     "name": "stdout",
     "output_type": "stream",
     "text": [
      "Example 1:\n",
      "+-------------------+-----------------------------------------------------------------------------------------------------------------------------------------------------------------------------------------------------------------------------------------------------------------------------------------------------------------------------------------------------------------------------------------------------------------------------------------------------------------------------------------------------------------------------------+\n",
      "| Field             | Value                                                                                                                                                                                                                                                                                                                                                                                                                                                                                                                             |\n",
      "+===================+===================================================================================================================================================================================================================================================================================================================================================================================================================================================================================================================================+\n",
      "| Combined Comments | Not for those that don't take spices, as myself. Even with the very mild heat that was requested, it was still too spicy for me. But good value for lunch. Comes w/ a small box of kottu, a small side & soda. // Idk if it was just me but the lentil patties are so exceedingly dry I could barely choke down one without reaching for water. // I don't know what I just ate, but it was really bad. // Spies tasted too raw and dry. Not recommended for those looking for Sri Lankan kottu. Coffee flan looks like Cat Food. |\n",
      "+-------------------+-----------------------------------------------------------------------------------------------------------------------------------------------------------------------------------------------------------------------------------------------------------------------------------------------------------------------------------------------------------------------------------------------------------------------------------------------------------------------------------------------------------------------------------+\n",
      "| Prediction        | - Address the issue of a mild heat to ensure that the spices are not too spicy for the customer. - Address the issue of kottu, a small side & soda, as it is not recommended for those looking for Sri Lankan kottu. - Address the issue of a lack of water to avoid a stale taste. - Address the issue of a lack of water to avoid a stale taste. - Address the issue of kottu, as it is not recommended for those looking for a sprinkling.                                                                                     |\n",
      "+-------------------+-----------------------------------------------------------------------------------------------------------------------------------------------------------------------------------------------------------------------------------------------------------------------------------------------------------------------------------------------------------------------------------------------------------------------------------------------------------------------------------------------------------------------------------+\n",
      "\n",
      "\n",
      "Example 2:\n",
      "+-------------------+---------------------------------------------------------------------------------------------------------------------------------------------------------------------------------------------------------------------------------------------------------------------------------------------------------------------------------------------------------------------------------------------------------------------------------------------------------------------------------------------------------------------------------------------------------------------------------------------------------------------------------+\n",
      "| Field             | Value                                                                                                                                                                                                                                                                                                                                                                                                                                                                                                                                                                                                                           |\n",
      "+===================+=================================================================================================================================================================================================================================================================================================================================================================================================================================================================================================================================================================================================================================+\n",
      "| Combined Comments | I just ordered from here, a cuban sandwich & chicharron de pollo with tostones, the chicken isnt bad, the tostones are really soggy, the cuban sandwich is DISGUSTING. The meat isnt hot, the bread wasnt even toasted, no pickle, very poor excuse of a cuban. I also ordered a jugo de limon con avena (lemonade with oatmeal) very sour with no ice. 1st & last time ordering from here // First time ordering and it was okay. Just had lunch so ordered a Cubano, that was super salty making it unpleasant to eat. And my kids had cheeseburger, they were okay. I will give this place one more try with dinner someday. |\n",
      "+-------------------+---------------------------------------------------------------------------------------------------------------------------------------------------------------------------------------------------------------------------------------------------------------------------------------------------------------------------------------------------------------------------------------------------------------------------------------------------------------------------------------------------------------------------------------------------------------------------------------------------------------------------------+\n",
      "| Prediction        | - Review the quality of the cuban sandwich and chicharron de pollo with tostones, as the chicken isnt bad, the tostones are really soggy, the cuban sandwich is DISGUSTING. - Review the quality of the meat, as it is not hot, as the bread wasnt even toasted, as there is no pickle, as there is a poor excuse of a cuban sandwich. - Review the jugo de limon con avena (lemonade with ice) and the quality of the food                                                                                                                                                                                                     |\n",
      "+-------------------+---------------------------------------------------------------------------------------------------------------------------------------------------------------------------------------------------------------------------------------------------------------------------------------------------------------------------------------------------------------------------------------------------------------------------------------------------------------------------------------------------------------------------------------------------------------------------------------------------------------------------------+\n",
      "\n",
      "\n",
      "Example 3:\n",
      "+-------------------+--------------------------------------------------------------------------------------------------------------------------------------------------------------------------------------------------------------------------------------------------------------------------------------------------------------------------------------------------------------------------------------------------------------------------------------------------------------------------------------------------------------------------------------------------------------------------------+\n",
      "| Field             | Value                                                                                                                                                                                                                                                                                                                                                                                                                                                                                                                                                                          |\n",
      "+===================+================================================================================================================================================================================================================================================================================================================================================================================================================================================================================================================================================================================+\n",
      "| Combined Comments | One of the worst dumpling in jacksion heights............this will be my last time here m nit coming back to this restaurant worst experience ever                                                                                                                                                                                                                                                                                                                                                                                                                             |\n",
      "+-------------------+--------------------------------------------------------------------------------------------------------------------------------------------------------------------------------------------------------------------------------------------------------------------------------------------------------------------------------------------------------------------------------------------------------------------------------------------------------------------------------------------------------------------------------------------------------------------------------+\n",
      "| Prediction        | - Address the customer's experience with the restaurant's worst dumplings in jacksion heights. - Address the customer's experience with the restaurant's worst dumplings in jacksion heights. - Address the customer's experience with the restaurant's worst experience ever. - Address the customer's experience with the restaurant's worst experience. - Address the customer's experience with the restaurant's worst experience. - Address the customer's experience with the restaurant's worst experience ever. - Address the customer's experience and the customer's |\n",
      "+-------------------+--------------------------------------------------------------------------------------------------------------------------------------------------------------------------------------------------------------------------------------------------------------------------------------------------------------------------------------------------------------------------------------------------------------------------------------------------------------------------------------------------------------------------------------------------------------------------------+\n",
      "\n",
      "\n"
     ]
    }
   ],
   "source": [
    "from tabulate import tabulate\n",
    "\n",
    "# Loop through the first three items of the eval_dataset\n",
    "for i in range(1, 4):\n",
    "    example = eval_dataset[i]\n",
    "    inputs = tokenizer(example[\"Combined Comments\"], return_tensors=\"pt\", padding=True, truncation=True, max_length=512)\n",
    "    outputs = model.generate(input_ids=inputs[\"input_ids\"].to(model.device), attention_mask=inputs[\"attention_mask\"].to(model.device), max_length=128)\n",
    "    prediction = tokenizer.decode(outputs[0], skip_special_tokens=True)\n",
    "\n",
    "    # Preparing data for the table\n",
    "    headers = [\"Field\", \"Value\"]\n",
    "    data = [\n",
    "        [\"Combined Comments\", example[\"Combined Comments\"]],\n",
    "        [\"Prediction\", prediction]\n",
    "    ]\n",
    "\n",
    "    # Print the table with wrapping lines\n",
    "    print(f\"Example {i}:\")\n",
    "    print(tabulate(data, headers=headers, tablefmt=\"grid\"))\n",
    "    print(\"\\n\")  # Add a newline for better separation between examples\n"
   ]
  },
  {
   "cell_type": "code",
   "execution_count": null,
   "metadata": {},
   "outputs": [],
   "source": []
  }
 ],
 "metadata": {
  "kernelspec": {
   "display_name": "tf_metal",
   "language": "python",
   "name": "python3"
  },
  "language_info": {
   "codemirror_mode": {
    "name": "ipython",
    "version": 3
   },
   "file_extension": ".py",
   "mimetype": "text/x-python",
   "name": "python",
   "nbconvert_exporter": "python",
   "pygments_lexer": "ipython3",
   "version": "3.8.18"
  }
 },
 "nbformat": 4,
 "nbformat_minor": 2
}
